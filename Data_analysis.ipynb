{
  "nbformat": 4,
  "nbformat_minor": 0,
  "metadata": {
    "colab": {
      "name": "Data-analysis.ipynb",
      "provenance": [],
      "private_outputs": true
    },
    "kernelspec": {
      "name": "python3",
      "display_name": "Python 3"
    }
  },
  "cells": [
    {
      "cell_type": "code",
      "metadata": {
        "id": "_AWEksrY49Oy",
        "colab_type": "code",
        "colab": {}
      },
      "source": [
        "import pandas as pd\n",
        "import matplotlib.pyplot as plt\n"
      ],
      "execution_count": null,
      "outputs": []
    },
    {
      "cell_type": "code",
      "metadata": {
        "id": "nZAhdTr75nkx",
        "colab_type": "code",
        "colab": {}
      },
      "source": [
        "#importing the data\n",
        "\n",
        "filename = \"https://s3-api.us-geo.objectstorage.softlayer.net/cf-courses-data/CognitiveClass/DA0101EN/auto.csv\""
      ],
      "execution_count": null,
      "outputs": []
    },
    {
      "cell_type": "code",
      "metadata": {
        "id": "lUO8A__W6JxC",
        "colab_type": "code",
        "colab": {}
      },
      "source": [
        "headers = [\"symboling\",\"normalized-losses\",\"make\",\"fuel-type\",\"aspiration\", \"num-of-doors\",\"body-style\",\n",
        "         \"drive-wheels\",\"engine-location\",\"wheel-base\", \"length\",\"width\",\"height\",\"curb-weight\",\"engine-type\",\n",
        "         \"num-of-cylinders\", \"engine-size\",\"fuel-system\",\"bore\",\"stroke\",\"compression-ratio\",\"horsepower\",\n",
        "         \"peak-rpm\",\"city-mpg\",\"highway-mpg\",\"price\"]"
      ],
      "execution_count": null,
      "outputs": []
    },
    {
      "cell_type": "code",
      "metadata": {
        "id": "GAHF6NWL6Xkj",
        "colab_type": "code",
        "colab": {}
      },
      "source": [
        "#dataframe\n",
        "df = pd.read_csv(filename, names=headers)"
      ],
      "execution_count": null,
      "outputs": []
    },
    {
      "cell_type": "code",
      "metadata": {
        "id": "jINw79fZ6w8y",
        "colab_type": "code",
        "colab": {}
      },
      "source": [
        "#first few lines of df\n",
        "df.head()"
      ],
      "execution_count": null,
      "outputs": []
    },
    {
      "cell_type": "code",
      "metadata": {
        "id": "qUpHnUv9633u",
        "colab_type": "code",
        "colab": {}
      },
      "source": [
        "#missing or garbage values\n",
        "import numpy as np\n",
        "\n",
        "df.replace(\"?\", np.nan, inplace=True)\n"
      ],
      "execution_count": null,
      "outputs": []
    },
    {
      "cell_type": "code",
      "metadata": {
        "id": "4KpiuJir8o7g",
        "colab_type": "code",
        "colab": {}
      },
      "source": [
        "df.head()\n",
        "#? is replaced with Not a Number"
      ],
      "execution_count": null,
      "outputs": []
    },
    {
      "cell_type": "code",
      "metadata": {
        "id": "-Xm1Khob8x06",
        "colab_type": "code",
        "colab": {}
      },
      "source": [
        "df.info()"
      ],
      "execution_count": null,
      "outputs": []
    },
    {
      "cell_type": "markdown",
      "metadata": {
        "id": "oOI9puWT9mjp",
        "colab_type": "text"
      },
      "source": [
        "#price, peak-rpm, horsepower, bore, stroke, num-of-doors, normalized-losses"
      ]
    },
    {
      "cell_type": "code",
      "metadata": {
        "id": "XA_wS_l19wXo",
        "colab_type": "code",
        "colab": {}
      },
      "source": [
        "#replace missing value with mean/average\n",
        "\n",
        "\n",
        "avg_normloss = df['normalized-losses'].astype('float').mean(axis='index')"
      ],
      "execution_count": null,
      "outputs": []
    },
    {
      "cell_type": "code",
      "metadata": {
        "id": "-K5IPCA3_6Cw",
        "colab_type": "code",
        "colab": {}
      },
      "source": [
        "avg_normloss"
      ],
      "execution_count": null,
      "outputs": []
    },
    {
      "cell_type": "code",
      "metadata": {
        "id": "hW9FMh0a_9_8",
        "colab_type": "code",
        "colab": {}
      },
      "source": [
        "df['normalized-losses'].replace(np.nan, avg_normloss, inplace=True)"
      ],
      "execution_count": null,
      "outputs": []
    },
    {
      "cell_type": "code",
      "metadata": {
        "id": "CzBlR4A0ALQg",
        "colab_type": "code",
        "colab": {}
      },
      "source": [
        "df.head(10)"
      ],
      "execution_count": null,
      "outputs": []
    },
    {
      "cell_type": "code",
      "metadata": {
        "id": "3WvkamAtAuSp",
        "colab_type": "code",
        "colab": {}
      },
      "source": [
        "#bore\n",
        "\n",
        "avg_bore = df['bore'].astype('float').mean(axis='index')\n",
        "\n",
        "df['bore'].replace(np.nan, avg_bore, inplace=True)"
      ],
      "execution_count": null,
      "outputs": []
    },
    {
      "cell_type": "code",
      "metadata": {
        "id": "M4KBDl3HAxXT",
        "colab_type": "code",
        "colab": {}
      },
      "source": [
        "#stroke\n",
        "\n",
        "\n",
        "avg_stroke = df['stroke'].astype('float').mean(axis='index')\n",
        "\n",
        "df['stroke'].replace(np.nan, avg_stroke, inplace=True)"
      ],
      "execution_count": null,
      "outputs": []
    },
    {
      "cell_type": "code",
      "metadata": {
        "id": "mhZAKn7OB1DA",
        "colab_type": "code",
        "colab": {}
      },
      "source": [
        "#horsepower\n",
        "\n",
        "avg_horsepower = df['horsepower'].astype('float').mean(axis='index')\n",
        "\n",
        "df['horsepower'].replace(np.nan, avg_horsepower, inplace=True)"
      ],
      "execution_count": null,
      "outputs": []
    },
    {
      "cell_type": "code",
      "metadata": {
        "id": "KY9_SUh4B4gB",
        "colab_type": "code",
        "colab": {}
      },
      "source": [
        "#peak-rpm\n",
        "\n",
        "avg_peakrpm = df['peak-rpm'].astype('float').mean(axis='index')\n",
        "\n",
        "df['peak-rpm'].replace(np.nan, avg_peakrpm, inplace=True)"
      ],
      "execution_count": null,
      "outputs": []
    },
    {
      "cell_type": "code",
      "metadata": {
        "id": "K3PmLrVhCKI6",
        "colab_type": "code",
        "colab": {}
      },
      "source": [
        "#num-of-doors\n",
        "#Average might give a float and a car cannot have a decimal number of doors\n",
        "#replacing missing value with mode - value that maximum times in the columns\n",
        "\n",
        "df['num-of-doors'].value_counts()\n",
        "\n",
        "\n"
      ],
      "execution_count": null,
      "outputs": []
    },
    {
      "cell_type": "code",
      "metadata": {
        "id": "DedCkiPYDj_X",
        "colab_type": "code",
        "colab": {}
      },
      "source": [
        "df['num-of-doors'].replace(np.nan, \"four\", inplace=True)"
      ],
      "execution_count": null,
      "outputs": []
    },
    {
      "cell_type": "code",
      "metadata": {
        "id": "exHdzdTUDucY",
        "colab_type": "code",
        "colab": {}
      },
      "source": [
        "df.info()"
      ],
      "execution_count": null,
      "outputs": []
    },
    {
      "cell_type": "code",
      "metadata": {
        "id": "xqPTcsvVD7dZ",
        "colab_type": "code",
        "colab": {}
      },
      "source": [
        "#price\n",
        "#delete rows for missing values in target variable\n",
        "#axis = 'index' (rows) and axis='columns' (columns)\n",
        "\n",
        "df.dropna(subset=['price'], axis='index', inplace=True)"
      ],
      "execution_count": null,
      "outputs": []
    },
    {
      "cell_type": "code",
      "metadata": {
        "id": "6g0qoop0E9n3",
        "colab_type": "code",
        "colab": {}
      },
      "source": [
        "df"
      ],
      "execution_count": null,
      "outputs": []
    },
    {
      "cell_type": "code",
      "metadata": {
        "id": "EFuQ6zgkFxSO",
        "colab_type": "code",
        "colab": {}
      },
      "source": [
        "df.reset_index(drop=True, inplace=True)"
      ],
      "execution_count": null,
      "outputs": []
    },
    {
      "cell_type": "code",
      "metadata": {
        "id": "NFXso3Z6F8Se",
        "colab_type": "code",
        "colab": {}
      },
      "source": [
        "df"
      ],
      "execution_count": null,
      "outputs": []
    },
    {
      "cell_type": "code",
      "metadata": {
        "id": "xFy2Fm-KGV5V",
        "colab_type": "code",
        "colab": {}
      },
      "source": [
        "df.info()"
      ],
      "execution_count": null,
      "outputs": []
    },
    {
      "cell_type": "code",
      "metadata": {
        "id": "8GSacweKGXgH",
        "colab_type": "code",
        "colab": {}
      },
      "source": [
        "#summary\n",
        "#drop\n",
        "#replace with mean/average\n",
        "#replace with mode/highest frequency"
      ],
      "execution_count": null,
      "outputs": []
    },
    {
      "cell_type": "code",
      "metadata": {
        "id": "o_FwDIvOGnCm",
        "colab_type": "code",
        "colab": {}
      },
      "source": [
        "df.dtypes"
      ],
      "execution_count": null,
      "outputs": []
    },
    {
      "cell_type": "code",
      "metadata": {
        "id": "CZvezHzvG6Ok",
        "colab_type": "code",
        "colab": {}
      },
      "source": [
        "df.head()"
      ],
      "execution_count": null,
      "outputs": []
    },
    {
      "cell_type": "code",
      "metadata": {
        "id": "Zt-5yZVRG7hJ",
        "colab_type": "code",
        "colab": {}
      },
      "source": [
        "df[['bore',\"stroke\",\"price\",\"peak-rpm\"]] = df[['bore',\"stroke\",\"price\",\"peak-rpm\"]].astype('float')\n",
        "\n",
        "df[['normalized-losses']] = df[['normalized-losses']].astype('int')"
      ],
      "execution_count": null,
      "outputs": []
    },
    {
      "cell_type": "code",
      "metadata": {
        "id": "ad_A1vIGH6Yx",
        "colab_type": "code",
        "colab": {}
      },
      "source": [
        "df.dtypes"
      ],
      "execution_count": null,
      "outputs": []
    },
    {
      "cell_type": "code",
      "metadata": {
        "id": "WDVmXlZjIVXb",
        "colab_type": "code",
        "colab": {}
      },
      "source": [
        "df[['horsepower']] = df[['horsepower']].astype('int')"
      ],
      "execution_count": null,
      "outputs": []
    },
    {
      "cell_type": "code",
      "metadata": {
        "id": "RD1QYiQpIhnU",
        "colab_type": "code",
        "colab": {}
      },
      "source": [
        "#Convert mpg to Lt per 100km\n",
        "#L/100km = 235/mpg\n",
        "\n",
        "df['city-L/100km'] = 235/df['city-mpg']\n",
        "\n",
        "df['highway-L/100km'] = 235/df['highway-mpg']"
      ],
      "execution_count": null,
      "outputs": []
    },
    {
      "cell_type": "code",
      "metadata": {
        "id": "9eNHgrV0JKj1",
        "colab_type": "code",
        "colab": {}
      },
      "source": [
        "df.head()"
      ],
      "execution_count": null,
      "outputs": []
    },
    {
      "cell_type": "code",
      "metadata": {
        "id": "ArJTBTLjJSgA",
        "colab_type": "code",
        "colab": {}
      },
      "source": [
        "#normalization\n",
        "#average of 0 and variance of 1\n",
        "#Column 1 -  100    200    300\n",
        "#Column 2 -  1       2      3\n",
        "#100/300   200/300   300/300\n",
        "#1/3   2/3    3/3\n",
        "\n",
        "#Column 1 -  0.33    0.66    1\n",
        "#Column 2 -  0.33    0.66    1\n",
        "\n",
        "\n",
        "\n",
        "df['length'] = df['length']/df['length'].max()\n",
        "df['width'] = df['width']/df['width'].max()\n"
      ],
      "execution_count": null,
      "outputs": []
    },
    {
      "cell_type": "code",
      "metadata": {
        "id": "tn92ZNWqYqrK",
        "colab_type": "code",
        "colab": {}
      },
      "source": [
        "df"
      ],
      "execution_count": null,
      "outputs": []
    },
    {
      "cell_type": "code",
      "metadata": {
        "id": "fy89dYbAY1a9",
        "colab_type": "code",
        "colab": {}
      },
      "source": [
        "#indicator variable (converting categorical variables to dummy/indicator variables)\n",
        "\n",
        "results = pd.get_dummies(df['fuel-type'])"
      ],
      "execution_count": null,
      "outputs": []
    },
    {
      "cell_type": "code",
      "metadata": {
        "id": "Nw206XA6amNC",
        "colab_type": "code",
        "colab": {}
      },
      "source": [
        "results"
      ],
      "execution_count": null,
      "outputs": []
    },
    {
      "cell_type": "code",
      "metadata": {
        "id": "chl7UwEYbE4g",
        "colab_type": "code",
        "colab": {}
      },
      "source": [
        "results.rename(columns={'gas':'fuel-type-gas', 'diesel':'fuel-type-diesel'}, inplace=True)\n",
        "results"
      ],
      "execution_count": null,
      "outputs": []
    },
    {
      "cell_type": "code",
      "metadata": {
        "id": "wFfmtUTibXyh",
        "colab_type": "code",
        "colab": {}
      },
      "source": [
        "df = pd.concat([df, results], axis='columns')"
      ],
      "execution_count": null,
      "outputs": []
    },
    {
      "cell_type": "code",
      "metadata": {
        "id": "KLTHHppnbjVk",
        "colab_type": "code",
        "colab": {}
      },
      "source": [
        "df"
      ],
      "execution_count": null,
      "outputs": []
    },
    {
      "cell_type": "code",
      "metadata": {
        "id": "jN7-XH9Pbrms",
        "colab_type": "code",
        "colab": {}
      },
      "source": [
        "#summary\n",
        "#missing values\n",
        "#changed datatypes\n",
        "#normalized\n",
        "#converted to same units\n",
        "#convert categorical to numeric"
      ],
      "execution_count": null,
      "outputs": []
    },
    {
      "cell_type": "code",
      "metadata": {
        "id": "0GiAabOZb2x4",
        "colab_type": "code",
        "colab": {}
      },
      "source": [
        "#Data Visualization\n",
        "!pip install seaborn"
      ],
      "execution_count": null,
      "outputs": []
    },
    {
      "cell_type": "code",
      "metadata": {
        "id": "kT5vopb9cBd6",
        "colab_type": "code",
        "colab": {}
      },
      "source": [
        "import seaborn as sns\n",
        "import matplotlib.pyplot as plt\n"
      ],
      "execution_count": null,
      "outputs": []
    },
    {
      "cell_type": "code",
      "metadata": {
        "id": "-7dSGjFwcJLM",
        "colab_type": "code",
        "colab": {}
      },
      "source": [
        "#understand relationship between x and y\n",
        "\n",
        "sns.regplot(x='engine-size',y='price',data=df)"
      ],
      "execution_count": null,
      "outputs": []
    },
    {
      "cell_type": "code",
      "metadata": {
        "id": "P5T_2Mfgc-9-",
        "colab_type": "code",
        "colab": {}
      },
      "source": [
        "sns.regplot(x='highway-mpg',y='price',data=df)"
      ],
      "execution_count": null,
      "outputs": []
    },
    {
      "cell_type": "code",
      "metadata": {
        "id": "JM47x1zndGTn",
        "colab_type": "code",
        "colab": {}
      },
      "source": [
        "sns.regplot(x='peak-rpm',y='price',data=df)"
      ],
      "execution_count": null,
      "outputs": []
    },
    {
      "cell_type": "code",
      "metadata": {
        "id": "DwcMlTvAdqg8",
        "colab_type": "code",
        "colab": {}
      },
      "source": [
        "df.corr()\n",
        "\n",
        "\n",
        "#correlation - gives strength of relationship between x and y\n",
        "#negative - 0 to -1 (inverse proportional)\n",
        "#0 (no effect)\n",
        "#positive - 0 to 1 (directly proportional)"
      ],
      "execution_count": null,
      "outputs": []
    },
    {
      "cell_type": "code",
      "metadata": {
        "id": "xhw7f8lDgLIi",
        "colab_type": "code",
        "colab": {}
      },
      "source": [
        "plt.plot(df.corr())"
      ],
      "execution_count": null,
      "outputs": []
    },
    {
      "cell_type": "code",
      "metadata": {
        "id": "vIl5ilgDgWLW",
        "colab_type": "code",
        "colab": {}
      },
      "source": [
        ""
      ],
      "execution_count": null,
      "outputs": []
    },
    {
      "cell_type": "code",
      "metadata": {
        "id": "bIJbbl2ufZji",
        "colab_type": "code",
        "colab": {}
      },
      "source": [
        "#plot correlation matrix\n",
        "corr = df.corr()\n",
        "fig = plt.figure()\n",
        "ax = fig.add_subplot(111)\n",
        "cax = ax.matshow(corr, cmap='coolwarm')\n",
        "\n",
        "#heatmap colorbar\n",
        "fig.colorbar(cax)\n",
        "\n",
        "ticks = np.arange(0, len(corr.columns), 1)\n",
        "\n",
        "ax.set_xticks(ticks)\n",
        "\n",
        "plt.xticks(rotation=90)\n",
        "\n",
        "ax.set_yticks(ticks)\n",
        "\n",
        "ax.set_xticklabels(corr.columns)\n",
        "ax.set_yticklabels(corr.columns)\n",
        "\n",
        "\n",
        "plt.show()"
      ],
      "execution_count": null,
      "outputs": []
    },
    {
      "cell_type": "code",
      "metadata": {
        "id": "zikt-OX2hksb",
        "colab_type": "code",
        "colab": {}
      },
      "source": [
        "#boxplot - min, first quartile, median, second quartile, max\n",
        "\n",
        "\n",
        "sns.boxplot(x='fuel-type', y='price', data=df)"
      ],
      "execution_count": null,
      "outputs": []
    },
    {
      "cell_type": "code",
      "metadata": {
        "id": "Pug9UuCdiOCm",
        "colab_type": "code",
        "colab": {}
      },
      "source": [
        "sns.boxplot(x='body-style', y='price', data=df)"
      ],
      "execution_count": null,
      "outputs": []
    },
    {
      "cell_type": "code",
      "metadata": {
        "id": "jzO-XVNni00c",
        "colab_type": "code",
        "colab": {}
      },
      "source": [
        "sns.boxplot(x='engine-location', y='price', data=df)"
      ],
      "execution_count": null,
      "outputs": []
    },
    {
      "cell_type": "code",
      "metadata": {
        "id": "OmbP0CRKjY6w",
        "colab_type": "code",
        "colab": {}
      },
      "source": [
        "#data visualization\n",
        "#regplot\n",
        "#corr\n",
        "#boxplot\n",
        "#identify outliers"
      ],
      "execution_count": null,
      "outputs": []
    },
    {
      "cell_type": "markdown",
      "metadata": {
        "id": "bK5sRpN4kQNn",
        "colab_type": "text"
      },
      "source": [
        "#Model development\n",
        "\n",
        "\n",
        "1. Regression - Where target can have continuous values\n",
        "2. Classification - Where target can have discrete values\n",
        "\n",
        "\n",
        "\n"
      ]
    },
    {
      "cell_type": "code",
      "metadata": {
        "id": "d1V00Y5akSKa",
        "colab_type": "code",
        "colab": {}
      },
      "source": [
        "from sklearn.linear_model import LinearRegression\n",
        "\n",
        "lm = LinearRegression()\n",
        "\n",
        "lm"
      ],
      "execution_count": null,
      "outputs": []
    },
    {
      "cell_type": "code",
      "metadata": {
        "id": "4qCmXWVLo_MC",
        "colab_type": "code",
        "colab": {}
      },
      "source": [
        "X = df[['highway-mpg']]\n",
        "Y = df[['price']]"
      ],
      "execution_count": null,
      "outputs": []
    },
    {
      "cell_type": "code",
      "metadata": {
        "id": "AoBrJIXRpIua",
        "colab_type": "code",
        "colab": {}
      },
      "source": [
        "lm.fit(X, Y)"
      ],
      "execution_count": null,
      "outputs": []
    },
    {
      "cell_type": "code",
      "metadata": {
        "id": "-c9SJVMvpMsI",
        "colab_type": "code",
        "colab": {}
      },
      "source": [
        "lm.intercept_"
      ],
      "execution_count": null,
      "outputs": []
    },
    {
      "cell_type": "code",
      "metadata": {
        "id": "6xfv-QtVpPaa",
        "colab_type": "code",
        "colab": {}
      },
      "source": [
        "lm.coef_"
      ],
      "execution_count": null,
      "outputs": []
    },
    {
      "cell_type": "code",
      "metadata": {
        "id": "msREOpI8rkVW",
        "colab_type": "code",
        "colab": {}
      },
      "source": [
        "sns.regplot(x='highway-mpg', y='price',data=df)"
      ],
      "execution_count": null,
      "outputs": []
    },
    {
      "cell_type": "markdown",
      "metadata": {
        "id": "WRxkd-XDpVic",
        "colab_type": "text"
      },
      "source": [
        "#Price = -821.73 * highway-mpg + 38423.3"
      ]
    },
    {
      "cell_type": "code",
      "metadata": {
        "id": "c8hjy1VbplOY",
        "colab_type": "code",
        "colab": {}
      },
      "source": [
        "X = df[['horsepower','curb-weight','engine-size','highway-mpg']]\n",
        "\n",
        "lm.fit(X, Y)"
      ],
      "execution_count": null,
      "outputs": []
    },
    {
      "cell_type": "code",
      "metadata": {
        "id": "NC1lzCCMp6dR",
        "colab_type": "code",
        "colab": {}
      },
      "source": [
        "lm.coef_"
      ],
      "execution_count": null,
      "outputs": []
    },
    {
      "cell_type": "code",
      "metadata": {
        "id": "tvzbgainp9ax",
        "colab_type": "code",
        "colab": {}
      },
      "source": [
        "lm.intercept_"
      ],
      "execution_count": null,
      "outputs": []
    },
    {
      "cell_type": "markdown",
      "metadata": {
        "id": "OMWJ44OkqDOH",
        "colab_type": "text"
      },
      "source": [
        "#Price = 53.53022809*horsepower +  4.70805253*curb-weight + 81.51280006*engine-size + 36.1593925*highway-mpg -15811.86"
      ]
    },
    {
      "cell_type": "markdown",
      "metadata": {
        "id": "KyE4pMNqqlmf",
        "colab_type": "text"
      },
      "source": [
        "#Determine model performance"
      ]
    },
    {
      "cell_type": "code",
      "metadata": {
        "id": "pUDnIWzeqiux",
        "colab_type": "code",
        "colab": {}
      },
      "source": [
        "#Mean squared error\n",
        "\n",
        "from sklearn.metrics import mean_squared_error, mean_absolute_error\n",
        "X = df[['highway-mpg']]\n",
        "Y = df[['price']]\n",
        "lm.fit(X, Y)\n",
        "yhat = lm.predict(X)\n",
        "\n",
        "result1 = mean_squared_error(df['price'],yhat)\n",
        "print(result1)\n",
        "\n",
        "result2 = mean_absolute_error(df['price'],yhat)\n",
        "print(result2)"
      ],
      "execution_count": null,
      "outputs": []
    },
    {
      "cell_type": "code",
      "metadata": {
        "id": "CS7Eyvfdsvcb",
        "colab_type": "code",
        "colab": {}
      },
      "source": [
        "#R-squared score - coeff of determination range -inf to 1\n",
        "#best possible is 1\n",
        "#R2score as 49% / 0.49 - \n",
        "\n",
        "\n",
        "lm.score(X, Y)"
      ],
      "execution_count": null,
      "outputs": []
    },
    {
      "cell_type": "code",
      "metadata": {
        "id": "KGwq5pGktI-E",
        "colab_type": "code",
        "colab": {}
      },
      "source": [
        "X = df[['horsepower','curb-weight','engine-size','highway-mpg']]\n",
        "\n",
        "lm.fit(X, Y)\n",
        "\n",
        "yhat = lm.predict(X)\n",
        "\n",
        "result1 = mean_squared_error(df['price'],yhat)\n",
        "print(result1)\n",
        "\n",
        "result2 = mean_absolute_error(df['price'],yhat)\n",
        "print(result2)\n",
        "\n",
        "lm.score(X, Y)"
      ],
      "execution_count": null,
      "outputs": []
    },
    {
      "cell_type": "code",
      "metadata": {
        "id": "58Qc3RUdu27z",
        "colab_type": "code",
        "colab": {}
      },
      "source": [
        "#univariate regression\n",
        "#multivariate regression\n",
        "#coeff, intercept\n",
        "#predictions\n",
        "#r2\n",
        "#mean squared error and mean absolute error"
      ],
      "execution_count": null,
      "outputs": []
    },
    {
      "cell_type": "markdown",
      "metadata": {
        "id": "bNYfxK41n4K9",
        "colab_type": "text"
      },
      "source": [
        "#Model Refinement and evaluation"
      ]
    },
    {
      "cell_type": "code",
      "metadata": {
        "id": "vU0RjBeH04J-",
        "colab_type": "code",
        "colab": {}
      },
      "source": [
        "lm=LinearRegression()"
      ],
      "execution_count": null,
      "outputs": []
    },
    {
      "cell_type": "code",
      "metadata": {
        "id": "HzfNdDOBn7LZ",
        "colab_type": "code",
        "colab": {}
      },
      "source": [
        "df"
      ],
      "execution_count": null,
      "outputs": []
    },
    {
      "cell_type": "code",
      "metadata": {
        "id": "5gs2TCzqud_B",
        "colab_type": "code",
        "colab": {}
      },
      "source": [
        "X = df.drop(['price','fuel-type-diesel','fuel-type-gas'], axis='columns')\n",
        "Y = df['price']"
      ],
      "execution_count": null,
      "outputs": []
    },
    {
      "cell_type": "code",
      "metadata": {
        "id": "nyM3YM7MwTzU",
        "colab_type": "code",
        "colab": {}
      },
      "source": [
        "X_dummies = pd.get_dummies(X)"
      ],
      "execution_count": null,
      "outputs": []
    },
    {
      "cell_type": "code",
      "metadata": {
        "id": "BYknZEDmwcdU",
        "colab_type": "code",
        "colab": {}
      },
      "source": [
        "X_dummies"
      ],
      "execution_count": null,
      "outputs": []
    },
    {
      "cell_type": "code",
      "metadata": {
        "id": "MxBQU6Zsv30o",
        "colab_type": "code",
        "colab": {}
      },
      "source": [
        "from sklearn.preprocessing import StandardScaler\n",
        "\n",
        "scaler = StandardScaler()\n",
        "X_scaled = scaler.fit_transform(X_dummies)"
      ],
      "execution_count": null,
      "outputs": []
    },
    {
      "cell_type": "code",
      "metadata": {
        "id": "duPlyvRsw6w0",
        "colab_type": "code",
        "colab": {}
      },
      "source": [
        "#ssplit my data\n",
        "\n",
        "from sklearn.model_selection import train_test_split\n",
        "\n",
        "X_train, X_test, y_train, y_test = train_test_split(X_scaled, Y, test_size = 0.2)"
      ],
      "execution_count": null,
      "outputs": []
    },
    {
      "cell_type": "code",
      "metadata": {
        "id": "GurzmlL2yYw9",
        "colab_type": "code",
        "colab": {}
      },
      "source": [
        "from sklearn.model_selection import GridSearchCV\n",
        "\n",
        "fit_intercept = [True, False]\n",
        "\n",
        "\n",
        "\n",
        "param_grid = dict(fit_intercept=fit_intercept)\n",
        "\n",
        "resultscv = GridSearchCV(estimator=lm, param_grid=param_grid, scoring=\"neg_root_mean_squared_error\", verbose=1, n_jobs=-1)\n",
        "\n",
        "\n",
        "cvresults  = resultscv.fit(X_train, y_train)"
      ],
      "execution_count": null,
      "outputs": []
    },
    {
      "cell_type": "code",
      "metadata": {
        "id": "O3Y7VOjMzw1P",
        "colab_type": "code",
        "colab": {}
      },
      "source": [
        "cvresults.best_score_"
      ],
      "execution_count": null,
      "outputs": []
    },
    {
      "cell_type": "code",
      "metadata": {
        "id": "Nyd8v_Opz8Rg",
        "colab_type": "code",
        "colab": {}
      },
      "source": [
        "cvresults.best_params_"
      ],
      "execution_count": null,
      "outputs": []
    },
    {
      "cell_type": "code",
      "metadata": {
        "id": "L6Vo3hLi0CQ4",
        "colab_type": "code",
        "colab": {}
      },
      "source": [
        "yhattest = resultscv.predict(X_test)\n",
        "\n",
        "result1 = mean_squared_error(y_test,yhattest)\n",
        "print(result1)\n",
        "\n",
        "result2 = mean_absolute_error(y_test,yhattest)\n",
        "print(result2)\n",
        "\n",
        "print(resultscv.score(X_test, y_test))"
      ],
      "execution_count": null,
      "outputs": []
    },
    {
      "cell_type": "markdown",
      "metadata": {
        "id": "X4lTDblFOhJk",
        "colab_type": "text"
      },
      "source": [
        "#Model building"
      ]
    },
    {
      "cell_type": "code",
      "metadata": {
        "id": "E8vohXYcOiz-",
        "colab_type": "code",
        "colab": {}
      },
      "source": [
        "import pandas as pd\n",
        "import matplotlib.pyplot as plt\n",
        "\n",
        "sample = {'Age': [10,20,30,40,50,60,70,80,90,100],\n",
        "         'Weight': [10,20,30,40,50,60,70,80,90,100]\n",
        "        }\n",
        "\n",
        "df = pd.DataFrame(sample, columns = ['Age', 'Weight'])"
      ],
      "execution_count": null,
      "outputs": []
    },
    {
      "cell_type": "code",
      "metadata": {
        "id": "fmvsZx4vO47s",
        "colab_type": "code",
        "colab": {}
      },
      "source": [
        "from sklearn.preprocessing import StandardScaler\n",
        "\n",
        "scaler = StandardScaler()\n",
        "X_scaled = scaler.fit_transform(df)"
      ],
      "execution_count": null,
      "outputs": []
    },
    {
      "cell_type": "code",
      "metadata": {
        "id": "SZpTeAfZPAoT",
        "colab_type": "code",
        "colab": {}
      },
      "source": [
        "X_scaled"
      ],
      "execution_count": null,
      "outputs": []
    },
    {
      "cell_type": "code",
      "metadata": {
        "colab_type": "code",
        "id": "AiqVvaMSPGHI",
        "colab": {}
      },
      "source": [
        "#ssplit my data\n",
        "\n",
        "from sklearn.model_selection import train_test_split\n",
        "\n",
        "X_train, X_test, y_train, y_test = train_test_split(df['Age'], df['Weight'], test_size = 0.2)"
      ],
      "execution_count": null,
      "outputs": []
    },
    {
      "cell_type": "code",
      "metadata": {
        "colab_type": "code",
        "id": "_E0XPK93PGHv",
        "colab": {}
      },
      "source": [
        "from sklearn.model_selection import GridSearchCV\n",
        "from sklearn.metrics import mean_squared_error, mean_absolute_error\n",
        "from sklearn.linear_model import LinearRegression\n",
        "import numpy as np\n",
        "\n",
        "\n",
        "lm=LinearRegression()\n",
        "\n",
        "\n",
        "\n",
        "fit_intercept = [True, False]\n",
        "\n",
        "\n",
        "param_grid = dict(fit_intercept=fit_intercept)\n",
        "\n",
        "resultscv = GridSearchCV(estimator=lm, param_grid=param_grid, scoring=\"neg_root_mean_squared_error\", verbose=1, n_jobs=-1)\n",
        "\n",
        "\n",
        "cvresults  = resultscv.fit(X_train, y_train)"
      ],
      "execution_count": null,
      "outputs": []
    },
    {
      "cell_type": "code",
      "metadata": {
        "id": "JhWdGB6KPzYu",
        "colab_type": "code",
        "colab": {}
      },
      "source": [
        "resultscv.get_params(deep=True)"
      ],
      "execution_count": null,
      "outputs": []
    },
    {
      "cell_type": "code",
      "metadata": {
        "colab_type": "code",
        "id": "g-8tD_nOPGH6",
        "colab": {}
      },
      "source": [
        "cvresults.best_score_"
      ],
      "execution_count": null,
      "outputs": []
    },
    {
      "cell_type": "code",
      "metadata": {
        "colab_type": "code",
        "id": "NFrOcxMUPGH_",
        "colab": {}
      },
      "source": [
        "cvresults.best_params_"
      ],
      "execution_count": null,
      "outputs": []
    },
    {
      "cell_type": "code",
      "metadata": {
        "colab_type": "code",
        "id": "ZnpoOlP6PGIF",
        "colab": {}
      },
      "source": [
        "yhattest = resultscv.predict(X_test)\n",
        "\n",
        "result1 = mean_squared_error(y_test,yhattest)\n",
        "print(result1)\n",
        "\n",
        "result2 = mean_absolute_error(y_test,yhattest)\n",
        "print(result2)\n",
        "\n",
        "from sklearn.metrics import r2_score\n",
        "r2_score(X_test, y_test)"
      ],
      "execution_count": null,
      "outputs": []
    }
  ]
}